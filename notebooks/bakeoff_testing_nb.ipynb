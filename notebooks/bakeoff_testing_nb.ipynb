{
 "cells": [
  {
   "cell_type": "markdown",
   "metadata": {},
   "source": [
    "## Attempts Will Be Made"
   ]
  },
  {
   "cell_type": "code",
   "execution_count": 1,
   "metadata": {},
   "outputs": [],
   "source": [
    "import pandas as pd\n",
    "import numpy as np\n",
    "import seaborn as sns\n",
    "import matplotlib.pyplot as plt\n",
    "\n",
    "X_train = pd.read_csv('../src/Xtrain.csv')\n",
    "y_train = pd.read_csv('../src/ytrain.csv')\n",
    "\n",
    "X_test = pd.read_csv('../src/Xtest.csv')"
   ]
  },
  {
   "cell_type": "code",
   "execution_count": 2,
   "metadata": {},
   "outputs": [
    {
     "data": {
      "text/plain": [
       "((16197, 19), (16197, 1), (5400, 19))"
      ]
     },
     "execution_count": 2,
     "metadata": {},
     "output_type": "execute_result"
    }
   ],
   "source": [
    "X_train.shape, y_train.shape, X_test.shape\n"
   ]
  },
  {
   "cell_type": "code",
   "execution_count": 3,
   "metadata": {},
   "outputs": [
    {
     "data": {
      "text/plain": [
       "(Index(['date', 'bedrooms', 'bathrooms', 'sqft_living', 'sqft_lot', 'floors',\n",
       "        'waterfront', 'view', 'condition', 'grade', 'sqft_above',\n",
       "        'sqft_basement', 'yr_built', 'yr_renovated', 'zipcode', 'lat', 'long',\n",
       "        'sqft_living15', 'sqft_lot15'],\n",
       "       dtype='object'),\n",
       " Index(['price'], dtype='object'))"
      ]
     },
     "execution_count": 3,
     "metadata": {},
     "output_type": "execute_result"
    }
   ],
   "source": [
    "X_train.columns, y_train.columns"
   ]
  },
  {
   "cell_type": "code",
   "execution_count": 4,
   "metadata": {
    "scrolled": false
   },
   "outputs": [
    {
     "data": {
      "text/plain": [
       "(date              object\n",
       " bedrooms           int64\n",
       " bathrooms        float64\n",
       " sqft_living        int64\n",
       " sqft_lot           int64\n",
       " floors           float64\n",
       " waterfront       float64\n",
       " view             float64\n",
       " condition          int64\n",
       " grade              int64\n",
       " sqft_above         int64\n",
       " sqft_basement     object\n",
       " yr_built           int64\n",
       " yr_renovated     float64\n",
       " zipcode            int64\n",
       " lat              float64\n",
       " long             float64\n",
       " sqft_living15      int64\n",
       " sqft_lot15         int64\n",
       " dtype: object,\n",
       " date                0\n",
       " bedrooms            0\n",
       " bathrooms           0\n",
       " sqft_living         0\n",
       " sqft_lot            0\n",
       " floors              0\n",
       " waterfront       1756\n",
       " view               49\n",
       " condition           0\n",
       " grade               0\n",
       " sqft_above          0\n",
       " sqft_basement       0\n",
       " yr_built            0\n",
       " yr_renovated     2879\n",
       " zipcode             0\n",
       " lat                 0\n",
       " long                0\n",
       " sqft_living15       0\n",
       " sqft_lot15          0\n",
       " dtype: int64)"
      ]
     },
     "execution_count": 4,
     "metadata": {},
     "output_type": "execute_result"
    }
   ],
   "source": [
    "X_train.dtypes, X_train.isna().sum()"
   ]
  },
  {
   "cell_type": "code",
   "execution_count": 5,
   "metadata": {
    "scrolled": true
   },
   "outputs": [
    {
     "data": {
      "text/html": [
       "<div>\n",
       "<style scoped>\n",
       "    .dataframe tbody tr th:only-of-type {\n",
       "        vertical-align: middle;\n",
       "    }\n",
       "\n",
       "    .dataframe tbody tr th {\n",
       "        vertical-align: top;\n",
       "    }\n",
       "\n",
       "    .dataframe thead th {\n",
       "        text-align: right;\n",
       "    }\n",
       "</style>\n",
       "<table border=\"1\" class=\"dataframe\">\n",
       "  <thead>\n",
       "    <tr style=\"text-align: right;\">\n",
       "      <th></th>\n",
       "      <th>price</th>\n",
       "      <th>date</th>\n",
       "      <th>bedrooms</th>\n",
       "      <th>bathrooms</th>\n",
       "      <th>sqft_living</th>\n",
       "      <th>sqft_lot</th>\n",
       "      <th>floors</th>\n",
       "      <th>waterfront</th>\n",
       "      <th>view</th>\n",
       "      <th>condition</th>\n",
       "      <th>grade</th>\n",
       "      <th>sqft_above</th>\n",
       "      <th>sqft_basement</th>\n",
       "      <th>yr_built</th>\n",
       "      <th>yr_renovated</th>\n",
       "      <th>zipcode</th>\n",
       "      <th>lat</th>\n",
       "      <th>long</th>\n",
       "      <th>sqft_living15</th>\n",
       "      <th>sqft_lot15</th>\n",
       "    </tr>\n",
       "  </thead>\n",
       "  <tbody>\n",
       "    <tr>\n",
       "      <th>0</th>\n",
       "      <td>529000.0</td>\n",
       "      <td>3/4/2015</td>\n",
       "      <td>3</td>\n",
       "      <td>2.50</td>\n",
       "      <td>1880</td>\n",
       "      <td>4499</td>\n",
       "      <td>2.0</td>\n",
       "      <td>0.0</td>\n",
       "      <td>0.0</td>\n",
       "      <td>3</td>\n",
       "      <td>8</td>\n",
       "      <td>1880</td>\n",
       "      <td>0.0</td>\n",
       "      <td>1993</td>\n",
       "      <td>0.0</td>\n",
       "      <td>98029</td>\n",
       "      <td>47.5664</td>\n",
       "      <td>-121.999</td>\n",
       "      <td>2130</td>\n",
       "      <td>5114</td>\n",
       "    </tr>\n",
       "    <tr>\n",
       "      <th>1</th>\n",
       "      <td>253000.0</td>\n",
       "      <td>10/7/2014</td>\n",
       "      <td>3</td>\n",
       "      <td>2.50</td>\n",
       "      <td>2020</td>\n",
       "      <td>6564</td>\n",
       "      <td>1.0</td>\n",
       "      <td>0.0</td>\n",
       "      <td>0.0</td>\n",
       "      <td>3</td>\n",
       "      <td>7</td>\n",
       "      <td>1310</td>\n",
       "      <td>710.0</td>\n",
       "      <td>1994</td>\n",
       "      <td>0.0</td>\n",
       "      <td>98042</td>\n",
       "      <td>47.3545</td>\n",
       "      <td>-122.158</td>\n",
       "      <td>1710</td>\n",
       "      <td>5151</td>\n",
       "    </tr>\n",
       "    <tr>\n",
       "      <th>2</th>\n",
       "      <td>745000.0</td>\n",
       "      <td>1/16/2015</td>\n",
       "      <td>5</td>\n",
       "      <td>4.00</td>\n",
       "      <td>4720</td>\n",
       "      <td>493534</td>\n",
       "      <td>2.0</td>\n",
       "      <td>0.0</td>\n",
       "      <td>0.0</td>\n",
       "      <td>5</td>\n",
       "      <td>9</td>\n",
       "      <td>3960</td>\n",
       "      <td>760.0</td>\n",
       "      <td>1975</td>\n",
       "      <td>0.0</td>\n",
       "      <td>98027</td>\n",
       "      <td>47.4536</td>\n",
       "      <td>-122.009</td>\n",
       "      <td>2160</td>\n",
       "      <td>219542</td>\n",
       "    </tr>\n",
       "    <tr>\n",
       "      <th>3</th>\n",
       "      <td>545000.0</td>\n",
       "      <td>3/30/2015</td>\n",
       "      <td>2</td>\n",
       "      <td>2.00</td>\n",
       "      <td>1430</td>\n",
       "      <td>3880</td>\n",
       "      <td>1.0</td>\n",
       "      <td>0.0</td>\n",
       "      <td>0.0</td>\n",
       "      <td>4</td>\n",
       "      <td>7</td>\n",
       "      <td>1430</td>\n",
       "      <td>0.0</td>\n",
       "      <td>1949</td>\n",
       "      <td>0.0</td>\n",
       "      <td>98117</td>\n",
       "      <td>47.6844</td>\n",
       "      <td>-122.392</td>\n",
       "      <td>1430</td>\n",
       "      <td>3880</td>\n",
       "    </tr>\n",
       "    <tr>\n",
       "      <th>4</th>\n",
       "      <td>390000.0</td>\n",
       "      <td>10/14/2014</td>\n",
       "      <td>3</td>\n",
       "      <td>2.25</td>\n",
       "      <td>2270</td>\n",
       "      <td>32112</td>\n",
       "      <td>1.0</td>\n",
       "      <td>0.0</td>\n",
       "      <td>0.0</td>\n",
       "      <td>4</td>\n",
       "      <td>8</td>\n",
       "      <td>1740</td>\n",
       "      <td>530.0</td>\n",
       "      <td>1980</td>\n",
       "      <td>0.0</td>\n",
       "      <td>98042</td>\n",
       "      <td>47.3451</td>\n",
       "      <td>-122.094</td>\n",
       "      <td>2310</td>\n",
       "      <td>41606</td>\n",
       "    </tr>\n",
       "    <tr>\n",
       "      <th>...</th>\n",
       "      <td>...</td>\n",
       "      <td>...</td>\n",
       "      <td>...</td>\n",
       "      <td>...</td>\n",
       "      <td>...</td>\n",
       "      <td>...</td>\n",
       "      <td>...</td>\n",
       "      <td>...</td>\n",
       "      <td>...</td>\n",
       "      <td>...</td>\n",
       "      <td>...</td>\n",
       "      <td>...</td>\n",
       "      <td>...</td>\n",
       "      <td>...</td>\n",
       "      <td>...</td>\n",
       "      <td>...</td>\n",
       "      <td>...</td>\n",
       "      <td>...</td>\n",
       "      <td>...</td>\n",
       "      <td>...</td>\n",
       "    </tr>\n",
       "    <tr>\n",
       "      <th>16192</th>\n",
       "      <td>440000.0</td>\n",
       "      <td>9/15/2014</td>\n",
       "      <td>3</td>\n",
       "      <td>2.50</td>\n",
       "      <td>2230</td>\n",
       "      <td>5800</td>\n",
       "      <td>2.0</td>\n",
       "      <td>0.0</td>\n",
       "      <td>0.0</td>\n",
       "      <td>3</td>\n",
       "      <td>7</td>\n",
       "      <td>2230</td>\n",
       "      <td>0.0</td>\n",
       "      <td>2004</td>\n",
       "      <td>0.0</td>\n",
       "      <td>98065</td>\n",
       "      <td>47.5308</td>\n",
       "      <td>-121.847</td>\n",
       "      <td>2230</td>\n",
       "      <td>6088</td>\n",
       "    </tr>\n",
       "    <tr>\n",
       "      <th>16193</th>\n",
       "      <td>572000.0</td>\n",
       "      <td>10/2/2014</td>\n",
       "      <td>4</td>\n",
       "      <td>2.75</td>\n",
       "      <td>2770</td>\n",
       "      <td>3852</td>\n",
       "      <td>2.0</td>\n",
       "      <td>0.0</td>\n",
       "      <td>0.0</td>\n",
       "      <td>3</td>\n",
       "      <td>8</td>\n",
       "      <td>2770</td>\n",
       "      <td>0.0</td>\n",
       "      <td>2014</td>\n",
       "      <td>NaN</td>\n",
       "      <td>98178</td>\n",
       "      <td>47.5001</td>\n",
       "      <td>-122.232</td>\n",
       "      <td>1810</td>\n",
       "      <td>5641</td>\n",
       "    </tr>\n",
       "    <tr>\n",
       "      <th>16194</th>\n",
       "      <td>299800.0</td>\n",
       "      <td>7/21/2014</td>\n",
       "      <td>4</td>\n",
       "      <td>1.50</td>\n",
       "      <td>1530</td>\n",
       "      <td>9000</td>\n",
       "      <td>1.0</td>\n",
       "      <td>0.0</td>\n",
       "      <td>0.0</td>\n",
       "      <td>4</td>\n",
       "      <td>6</td>\n",
       "      <td>1530</td>\n",
       "      <td>0.0</td>\n",
       "      <td>1976</td>\n",
       "      <td>0.0</td>\n",
       "      <td>98014</td>\n",
       "      <td>47.6492</td>\n",
       "      <td>-121.908</td>\n",
       "      <td>1520</td>\n",
       "      <td>8500</td>\n",
       "    </tr>\n",
       "    <tr>\n",
       "      <th>16195</th>\n",
       "      <td>245000.0</td>\n",
       "      <td>6/20/2014</td>\n",
       "      <td>1</td>\n",
       "      <td>0.75</td>\n",
       "      <td>380</td>\n",
       "      <td>15000</td>\n",
       "      <td>1.0</td>\n",
       "      <td>0.0</td>\n",
       "      <td>0.0</td>\n",
       "      <td>3</td>\n",
       "      <td>5</td>\n",
       "      <td>380</td>\n",
       "      <td>0.0</td>\n",
       "      <td>1963</td>\n",
       "      <td>0.0</td>\n",
       "      <td>98168</td>\n",
       "      <td>47.4810</td>\n",
       "      <td>-122.323</td>\n",
       "      <td>1170</td>\n",
       "      <td>15000</td>\n",
       "    </tr>\n",
       "    <tr>\n",
       "      <th>16196</th>\n",
       "      <td>545000.0</td>\n",
       "      <td>3/25/2015</td>\n",
       "      <td>4</td>\n",
       "      <td>2.50</td>\n",
       "      <td>2755</td>\n",
       "      <td>11612</td>\n",
       "      <td>2.0</td>\n",
       "      <td>0.0</td>\n",
       "      <td>0.0</td>\n",
       "      <td>3</td>\n",
       "      <td>8</td>\n",
       "      <td>2755</td>\n",
       "      <td>0.0</td>\n",
       "      <td>2001</td>\n",
       "      <td>0.0</td>\n",
       "      <td>98019</td>\n",
       "      <td>47.7394</td>\n",
       "      <td>-121.965</td>\n",
       "      <td>2820</td>\n",
       "      <td>12831</td>\n",
       "    </tr>\n",
       "  </tbody>\n",
       "</table>\n",
       "<p>16197 rows × 20 columns</p>\n",
       "</div>"
      ],
      "text/plain": [
       "          price        date  bedrooms  bathrooms  sqft_living  sqft_lot  \\\n",
       "0      529000.0    3/4/2015         3       2.50         1880      4499   \n",
       "1      253000.0   10/7/2014         3       2.50         2020      6564   \n",
       "2      745000.0   1/16/2015         5       4.00         4720    493534   \n",
       "3      545000.0   3/30/2015         2       2.00         1430      3880   \n",
       "4      390000.0  10/14/2014         3       2.25         2270     32112   \n",
       "...         ...         ...       ...        ...          ...       ...   \n",
       "16192  440000.0   9/15/2014         3       2.50         2230      5800   \n",
       "16193  572000.0   10/2/2014         4       2.75         2770      3852   \n",
       "16194  299800.0   7/21/2014         4       1.50         1530      9000   \n",
       "16195  245000.0   6/20/2014         1       0.75          380     15000   \n",
       "16196  545000.0   3/25/2015         4       2.50         2755     11612   \n",
       "\n",
       "       floors  waterfront  view  condition  grade  sqft_above sqft_basement  \\\n",
       "0         2.0         0.0   0.0          3      8        1880           0.0   \n",
       "1         1.0         0.0   0.0          3      7        1310         710.0   \n",
       "2         2.0         0.0   0.0          5      9        3960         760.0   \n",
       "3         1.0         0.0   0.0          4      7        1430           0.0   \n",
       "4         1.0         0.0   0.0          4      8        1740         530.0   \n",
       "...       ...         ...   ...        ...    ...         ...           ...   \n",
       "16192     2.0         0.0   0.0          3      7        2230           0.0   \n",
       "16193     2.0         0.0   0.0          3      8        2770           0.0   \n",
       "16194     1.0         0.0   0.0          4      6        1530           0.0   \n",
       "16195     1.0         0.0   0.0          3      5         380           0.0   \n",
       "16196     2.0         0.0   0.0          3      8        2755           0.0   \n",
       "\n",
       "       yr_built  yr_renovated  zipcode      lat     long  sqft_living15  \\\n",
       "0          1993           0.0    98029  47.5664 -121.999           2130   \n",
       "1          1994           0.0    98042  47.3545 -122.158           1710   \n",
       "2          1975           0.0    98027  47.4536 -122.009           2160   \n",
       "3          1949           0.0    98117  47.6844 -122.392           1430   \n",
       "4          1980           0.0    98042  47.3451 -122.094           2310   \n",
       "...         ...           ...      ...      ...      ...            ...   \n",
       "16192      2004           0.0    98065  47.5308 -121.847           2230   \n",
       "16193      2014           NaN    98178  47.5001 -122.232           1810   \n",
       "16194      1976           0.0    98014  47.6492 -121.908           1520   \n",
       "16195      1963           0.0    98168  47.4810 -122.323           1170   \n",
       "16196      2001           0.0    98019  47.7394 -121.965           2820   \n",
       "\n",
       "       sqft_lot15  \n",
       "0            5114  \n",
       "1            5151  \n",
       "2          219542  \n",
       "3            3880  \n",
       "4           41606  \n",
       "...           ...  \n",
       "16192        6088  \n",
       "16193        5641  \n",
       "16194        8500  \n",
       "16195       15000  \n",
       "16196       12831  \n",
       "\n",
       "[16197 rows x 20 columns]"
      ]
     },
     "execution_count": 5,
     "metadata": {},
     "output_type": "execute_result"
    }
   ],
   "source": [
    "##Joining dataframes in order to drop values, then split them back up\n",
    "\n",
    "training_df = pd.concat([y_train, X_train], axis = 1)\n",
    "training_df"
   ]
  },
  {
   "cell_type": "code",
   "execution_count": 6,
   "metadata": {},
   "outputs": [
    {
     "data": {
      "text/plain": [
       "date               0\n",
       "bedrooms           0\n",
       "bathrooms          0\n",
       "sqft_living        0\n",
       "sqft_lot           0\n",
       "floors             0\n",
       "waterfront       620\n",
       "view              14\n",
       "condition          0\n",
       "grade              0\n",
       "sqft_above         0\n",
       "sqft_basement      0\n",
       "yr_built           0\n",
       "yr_renovated     963\n",
       "zipcode            0\n",
       "lat                0\n",
       "long               0\n",
       "sqft_living15      0\n",
       "sqft_lot15         0\n",
       "dtype: int64"
      ]
     },
     "execution_count": 6,
     "metadata": {},
     "output_type": "execute_result"
    }
   ],
   "source": [
    "##Calculated the percent of waterfront homes in the existing data to determine what to do with NaN vals\n",
    "##Because they accounted for less than 1 percent of properties, I replaced NaN values with 0. \n",
    "\n",
    "len(training_df[training_df['waterfront'] == 1.0]), len(training_df[training_df['waterfront'] == 0.0])\n",
    "percent_waterfront = 111/14330\n",
    "percent_waterfront, training_df['waterfront'].isna().sum()\n",
    "\n",
    "X_test.isna().sum()"
   ]
  },
  {
   "cell_type": "code",
   "execution_count": 7,
   "metadata": {},
   "outputs": [],
   "source": [
    "training_df['waterfront'].replace(np.nan, 0, inplace = True)\n",
    "\n",
    "training_df.isna().sum()\n",
    "##\n",
    "\n",
    "X_test['waterfront'].replace(np.nan, 0, inplace = True)"
   ]
  },
  {
   "cell_type": "code",
   "execution_count": 8,
   "metadata": {
    "scrolled": true
   },
   "outputs": [],
   "source": [
    "##Did the same thing with renovations but turned it into a categorical variable - Only 550 or so had reported renovations,\n",
    "## So reported renovations became 1, unreported or reported as 0.0 all became 0\n",
    "\n",
    "training_df['yr_renovated'].replace(np.nan, 0, inplace = True)\n",
    "\n",
    "training_df['renovated'] = np.where((training_df['yr_renovated'] > 0.0), 1, 0)\n",
    "\n",
    "training_df['renovated'].sum()/len(training_df['renovated'])\n",
    "\n",
    "\n",
    "##\n",
    "\n",
    "X_test['yr_renovated'].replace(np.nan, 0, inplace = True)\n",
    "X_test['renovated'] = np.where((X_test['yr_renovated'] > 0), 1, 0)"
   ]
  },
  {
   "cell_type": "code",
   "execution_count": 9,
   "metadata": {},
   "outputs": [],
   "source": [
    "#training_df.head()"
   ]
  },
  {
   "cell_type": "code",
   "execution_count": 10,
   "metadata": {},
   "outputs": [],
   "source": [
    "## Converted str dates to datetime objects\n",
    "\n",
    "x_date = pd.DataFrame(pd.to_datetime(training_df['date'], format='%m/%d/%Y'))\n",
    "\n",
    "x_test_date = pd.DataFrame(pd.to_datetime(X_test['date'], format='%m/%d/%Y'))"
   ]
  },
  {
   "cell_type": "code",
   "execution_count": 11,
   "metadata": {},
   "outputs": [],
   "source": [
    "training_df['date'] = x_date\n",
    "\n",
    "X_test['date'] = x_test_date"
   ]
  },
  {
   "cell_type": "code",
   "execution_count": 12,
   "metadata": {},
   "outputs": [],
   "source": [
    "training_df.view.replace(np.nan, 0, inplace = True)\n",
    "##\n",
    "X_test.view.replace(np.nan, 0, inplace = True)"
   ]
  },
  {
   "cell_type": "code",
   "execution_count": 13,
   "metadata": {},
   "outputs": [],
   "source": [
    "training_df.drop(columns = ['yr_renovated'], axis = 1, inplace = True)\n",
    "##\n",
    "X_test.drop(columns = ['yr_renovated'], axis = 1, inplace = True)"
   ]
  },
  {
   "cell_type": "code",
   "execution_count": 14,
   "metadata": {},
   "outputs": [],
   "source": [
    "training_df['quarter'] = training_df['date'].dt.quarter\n",
    "##\n",
    "X_test['quarter'] = X_test['date'].dt.quarter"
   ]
  },
  {
   "cell_type": "code",
   "execution_count": 15,
   "metadata": {},
   "outputs": [
    {
     "name": "stdout",
     "output_type": "stream",
     "text": [
      "<class 'pandas.core.frame.DataFrame'>\n",
      "RangeIndex: 16197 entries, 0 to 16196\n",
      "Data columns (total 21 columns):\n",
      " #   Column         Non-Null Count  Dtype         \n",
      "---  ------         --------------  -----         \n",
      " 0   price          16197 non-null  float64       \n",
      " 1   date           16197 non-null  datetime64[ns]\n",
      " 2   bedrooms       16197 non-null  int64         \n",
      " 3   bathrooms      16197 non-null  float64       \n",
      " 4   sqft_living    16197 non-null  int64         \n",
      " 5   sqft_lot       16197 non-null  int64         \n",
      " 6   floors         16197 non-null  float64       \n",
      " 7   waterfront     16197 non-null  float64       \n",
      " 8   view           16197 non-null  float64       \n",
      " 9   condition      16197 non-null  int64         \n",
      " 10  grade          16197 non-null  int64         \n",
      " 11  sqft_above     16197 non-null  int64         \n",
      " 12  sqft_basement  16197 non-null  object        \n",
      " 13  yr_built       16197 non-null  int64         \n",
      " 14  zipcode        16197 non-null  int64         \n",
      " 15  lat            16197 non-null  float64       \n",
      " 16  long           16197 non-null  float64       \n",
      " 17  sqft_living15  16197 non-null  int64         \n",
      " 18  sqft_lot15     16197 non-null  int64         \n",
      " 19  renovated      16197 non-null  int32         \n",
      " 20  quarter        16197 non-null  int64         \n",
      "dtypes: datetime64[ns](1), float64(7), int32(1), int64(11), object(1)\n",
      "memory usage: 2.5+ MB\n",
      "<class 'pandas.core.frame.DataFrame'>\n",
      "RangeIndex: 5400 entries, 0 to 5399\n",
      "Data columns (total 20 columns):\n",
      " #   Column         Non-Null Count  Dtype         \n",
      "---  ------         --------------  -----         \n",
      " 0   date           5400 non-null   datetime64[ns]\n",
      " 1   bedrooms       5400 non-null   int64         \n",
      " 2   bathrooms      5400 non-null   float64       \n",
      " 3   sqft_living    5400 non-null   int64         \n",
      " 4   sqft_lot       5400 non-null   int64         \n",
      " 5   floors         5400 non-null   float64       \n",
      " 6   waterfront     5400 non-null   float64       \n",
      " 7   view           5400 non-null   float64       \n",
      " 8   condition      5400 non-null   int64         \n",
      " 9   grade          5400 non-null   int64         \n",
      " 10  sqft_above     5400 non-null   int64         \n",
      " 11  sqft_basement  5400 non-null   object        \n",
      " 12  yr_built       5400 non-null   int64         \n",
      " 13  zipcode        5400 non-null   int64         \n",
      " 14  lat            5400 non-null   float64       \n",
      " 15  long           5400 non-null   float64       \n",
      " 16  sqft_living15  5400 non-null   int64         \n",
      " 17  sqft_lot15     5400 non-null   int64         \n",
      " 18  renovated      5400 non-null   int32         \n",
      " 19  quarter        5400 non-null   int64         \n",
      "dtypes: datetime64[ns](1), float64(6), int32(1), int64(11), object(1)\n",
      "memory usage: 822.8+ KB\n"
     ]
    },
    {
     "data": {
      "text/plain": [
       "(None, None)"
      ]
     },
     "execution_count": 15,
     "metadata": {},
     "output_type": "execute_result"
    }
   ],
   "source": [
    "training_df.info(), X_test.info()"
   ]
  },
  {
   "cell_type": "code",
   "execution_count": 16,
   "metadata": {},
   "outputs": [],
   "source": [
    "## Plotted distributions for continuous variables \n",
    "#for cat in x_cont:\n",
    "#    fig, ax = plt.subplots()\n",
    "#    sns.histplot(training_df[cat])\n",
    "\n",
    "##Plotted categorical variables\n",
    "\n",
    "#for cat in x_cat:\n",
    "#    fig, ax = plt.subplots()\n",
    "#    sns.histplot(training_df[cat])"
   ]
  },
  {
   "cell_type": "code",
   "execution_count": 17,
   "metadata": {},
   "outputs": [],
   "source": [
    "##Selecting the features I want to use\n",
    "x_date = ['date']\n",
    "x_cat = ['bedrooms', 'bathrooms', 'waterfront', 'condition', 'grade', 'zipcode', 'renovated', 'quarter']\n",
    "x_cont = ['sqft_living', 'sqft_lot', 'sqft_living15']\n",
    "y_cont = ['price']\n"
   ]
  },
  {
   "cell_type": "code",
   "execution_count": 18,
   "metadata": {
    "scrolled": true
   },
   "outputs": [],
   "source": [
    "#sns.histplot(training_df['price']);"
   ]
  },
  {
   "cell_type": "code",
   "execution_count": 19,
   "metadata": {},
   "outputs": [
    {
     "data": {
      "text/plain": [
       "(11, 11)"
      ]
     },
     "execution_count": 19,
     "metadata": {},
     "output_type": "execute_result"
    }
   ],
   "source": [
    "##Splitting the dataframe back up into X_train and y_train\n",
    "\n",
    "X_train = pd.concat([training_df[x_cont], training_df[x_cat]], axis = 1)\n",
    "y_train = pd.DataFrame(training_df['price'])\n",
    "\n",
    "X_test = pd.concat([X_test[x_cont], X_test[x_cat]], axis = 1)\n",
    "\n",
    "len(X_test.columns), len(X_train.columns)"
   ]
  },
  {
   "cell_type": "code",
   "execution_count": 20,
   "metadata": {
    "scrolled": true
   },
   "outputs": [
    {
     "data": {
      "text/plain": [
       "(131, 131)"
      ]
     },
     "execution_count": 20,
     "metadata": {},
     "output_type": "execute_result"
    }
   ],
   "source": [
    "##OHE on selected categoricals\n",
    "from sklearn.preprocessing import OneHotEncoder\n",
    "\n",
    "ohe = OneHotEncoder(sparse = False, handle_unknown = 'ignore')\n",
    "x_cat_enc = ohe.fit_transform(X_train[x_cat])\n",
    "\n",
    "x_cat_enc_df = pd.DataFrame(x_cat_enc)\n",
    "\n",
    "\n",
    "## OHE on X_test\n",
    "x_test_enc = ohe.transform(X_test[x_cat])\n",
    "\n",
    "x_test_enc_df = pd.DataFrame(x_test_enc)\n",
    "\n",
    "len(x_test_enc_df.columns), len(x_cat_enc_df.columns)"
   ]
  },
  {
   "cell_type": "code",
   "execution_count": 21,
   "metadata": {
    "scrolled": true
   },
   "outputs": [],
   "source": [
    "#log transform on sqft variables\n",
    "log_sqft_living = np.log(X_train['sqft_living'])\n",
    "log_sqft_lot = np.log(X_train['sqft_lot'])\n",
    "log_sqft_living15 = np.log(X_train['sqft_living15'])\n",
    "\n",
    "log_y_train = np.array(np.log(y_train['price']))\n",
    "\n",
    "\n",
    "\n",
    "#standardizing lat and long to coordinates\n",
    "#small_x = np.array(np.cos(X_train['lat']) * np.cos(X_train['long']))\n",
    "#small_y = np.array(pd.DataFrame(np.cos(X_train['lat']) * np.sin(X_train['long'])))\n",
    "#small_z = np.array(pd.DataFrame(np.sin(X_train['lat'])))\n",
    "\n",
    "\n",
    "\n",
    "##Power Transform on continuous variables\n",
    "from sklearn.preprocessing import PowerTransformer\n",
    "\n",
    "power = PowerTransformer()\n",
    "\n",
    "power_sqft_living = power.fit_transform(np.array(log_sqft_living).reshape(-1,1)).flatten()\n",
    "power_sqft_lot = power.fit_transform(np.array(log_sqft_lot).reshape(-1,1)).flatten()\n",
    "power_sqft_living15 = power.fit_transform(np.array(log_sqft_living15).reshape(-1,1)).flatten()\n",
    "\n",
    "\n",
    "\n",
    "##Assembly of final DF\n",
    "final_df = pd.DataFrame([])\n",
    "\n",
    "final_df['price'] = log_y_train\n",
    "final_df['sqft_living'] = power_sqft_living\n",
    "final_df['sqft_lot'] = power_sqft_lot\n",
    "final_df['sqft_living15'] = power_sqft_living15\n",
    "#final_df['x'] = small_x\n",
    "#final_df['y'] = small_y\n",
    "#final_df['z'] = small_z\n",
    "\n",
    "final_df = pd.concat([final_df, x_cat_enc_df], axis = 1)\n",
    "\n",
    "\n",
    "##X_test transforms\n",
    "tlog_sqft_living = np.log(X_test['sqft_living'])\n",
    "tlog_sqft_lot = np.log(X_test['sqft_lot'])\n",
    "tlog_sqft_living15 = np.log(X_test['sqft_living15'])\n",
    "\n",
    "\n",
    "tpower_sqft_living = power.fit_transform(np.array(tlog_sqft_living).reshape(-1,1)).flatten()\n",
    "tpower_sqft_lot = power.fit_transform(np.array(tlog_sqft_lot).reshape(-1,1)).flatten()\n",
    "tpower_sqft_living15 = power.fit_transform(np.array(tlog_sqft_living15).reshape(-1,1)).flatten()\n",
    "\n",
    "X_test['sqft_living'] = tpower_sqft_living\n",
    "X_test['sqft_lot'] = tpower_sqft_lot\n",
    "X_test['sqft_living15'] = tpower_sqft_living15\n",
    "X_test.drop(columns = x_cat, inplace = True)\n",
    "\n",
    "X_test = pd.concat([X_test, x_test_enc_df], axis = 1)\n"
   ]
  },
  {
   "cell_type": "code",
   "execution_count": 25,
   "metadata": {},
   "outputs": [
    {
     "data": {
      "text/html": [
       "<div>\n",
       "<style scoped>\n",
       "    .dataframe tbody tr th:only-of-type {\n",
       "        vertical-align: middle;\n",
       "    }\n",
       "\n",
       "    .dataframe tbody tr th {\n",
       "        vertical-align: top;\n",
       "    }\n",
       "\n",
       "    .dataframe thead th {\n",
       "        text-align: right;\n",
       "    }\n",
       "</style>\n",
       "<table border=\"1\" class=\"dataframe\">\n",
       "  <thead>\n",
       "    <tr style=\"text-align: right;\">\n",
       "      <th></th>\n",
       "      <th>sqft_living</th>\n",
       "      <th>sqft_lot</th>\n",
       "      <th>sqft_living15</th>\n",
       "      <th>0</th>\n",
       "      <th>1</th>\n",
       "      <th>2</th>\n",
       "      <th>3</th>\n",
       "      <th>4</th>\n",
       "      <th>5</th>\n",
       "      <th>6</th>\n",
       "      <th>...</th>\n",
       "      <th>121</th>\n",
       "      <th>122</th>\n",
       "      <th>123</th>\n",
       "      <th>124</th>\n",
       "      <th>125</th>\n",
       "      <th>126</th>\n",
       "      <th>127</th>\n",
       "      <th>128</th>\n",
       "      <th>129</th>\n",
       "      <th>130</th>\n",
       "    </tr>\n",
       "  </thead>\n",
       "  <tbody>\n",
       "    <tr>\n",
       "      <th>0</th>\n",
       "      <td>-0.036255</td>\n",
       "      <td>-0.614087</td>\n",
       "      <td>0.409697</td>\n",
       "      <td>0.0</td>\n",
       "      <td>0.0</td>\n",
       "      <td>1.0</td>\n",
       "      <td>0.0</td>\n",
       "      <td>0.0</td>\n",
       "      <td>0.0</td>\n",
       "      <td>0.0</td>\n",
       "      <td>...</td>\n",
       "      <td>0.0</td>\n",
       "      <td>0.0</td>\n",
       "      <td>0.0</td>\n",
       "      <td>0.0</td>\n",
       "      <td>1.0</td>\n",
       "      <td>0.0</td>\n",
       "      <td>1.0</td>\n",
       "      <td>0.0</td>\n",
       "      <td>0.0</td>\n",
       "      <td>0.0</td>\n",
       "    </tr>\n",
       "    <tr>\n",
       "      <th>1</th>\n",
       "      <td>0.133192</td>\n",
       "      <td>-0.152342</td>\n",
       "      <td>-0.260119</td>\n",
       "      <td>0.0</td>\n",
       "      <td>0.0</td>\n",
       "      <td>1.0</td>\n",
       "      <td>0.0</td>\n",
       "      <td>0.0</td>\n",
       "      <td>0.0</td>\n",
       "      <td>0.0</td>\n",
       "      <td>...</td>\n",
       "      <td>0.0</td>\n",
       "      <td>0.0</td>\n",
       "      <td>0.0</td>\n",
       "      <td>0.0</td>\n",
       "      <td>1.0</td>\n",
       "      <td>0.0</td>\n",
       "      <td>0.0</td>\n",
       "      <td>0.0</td>\n",
       "      <td>0.0</td>\n",
       "      <td>1.0</td>\n",
       "    </tr>\n",
       "    <tr>\n",
       "      <th>2</th>\n",
       "      <td>2.155565</td>\n",
       "      <td>3.505455</td>\n",
       "      <td>0.451269</td>\n",
       "      <td>0.0</td>\n",
       "      <td>0.0</td>\n",
       "      <td>0.0</td>\n",
       "      <td>0.0</td>\n",
       "      <td>1.0</td>\n",
       "      <td>0.0</td>\n",
       "      <td>0.0</td>\n",
       "      <td>...</td>\n",
       "      <td>0.0</td>\n",
       "      <td>0.0</td>\n",
       "      <td>0.0</td>\n",
       "      <td>0.0</td>\n",
       "      <td>1.0</td>\n",
       "      <td>0.0</td>\n",
       "      <td>1.0</td>\n",
       "      <td>0.0</td>\n",
       "      <td>0.0</td>\n",
       "      <td>0.0</td>\n",
       "    </tr>\n",
       "    <tr>\n",
       "      <th>3</th>\n",
       "      <td>-0.679181</td>\n",
       "      <td>-0.804264</td>\n",
       "      <td>-0.830224</td>\n",
       "      <td>0.0</td>\n",
       "      <td>1.0</td>\n",
       "      <td>0.0</td>\n",
       "      <td>0.0</td>\n",
       "      <td>0.0</td>\n",
       "      <td>0.0</td>\n",
       "      <td>0.0</td>\n",
       "      <td>...</td>\n",
       "      <td>0.0</td>\n",
       "      <td>0.0</td>\n",
       "      <td>0.0</td>\n",
       "      <td>0.0</td>\n",
       "      <td>1.0</td>\n",
       "      <td>0.0</td>\n",
       "      <td>1.0</td>\n",
       "      <td>0.0</td>\n",
       "      <td>0.0</td>\n",
       "      <td>0.0</td>\n",
       "    </tr>\n",
       "    <tr>\n",
       "      <th>4</th>\n",
       "      <td>0.409042</td>\n",
       "      <td>1.482668</td>\n",
       "      <td>0.649084</td>\n",
       "      <td>0.0</td>\n",
       "      <td>0.0</td>\n",
       "      <td>1.0</td>\n",
       "      <td>0.0</td>\n",
       "      <td>0.0</td>\n",
       "      <td>0.0</td>\n",
       "      <td>0.0</td>\n",
       "      <td>...</td>\n",
       "      <td>0.0</td>\n",
       "      <td>0.0</td>\n",
       "      <td>0.0</td>\n",
       "      <td>0.0</td>\n",
       "      <td>1.0</td>\n",
       "      <td>0.0</td>\n",
       "      <td>0.0</td>\n",
       "      <td>0.0</td>\n",
       "      <td>0.0</td>\n",
       "      <td>1.0</td>\n",
       "    </tr>\n",
       "    <tr>\n",
       "      <th>...</th>\n",
       "      <td>...</td>\n",
       "      <td>...</td>\n",
       "      <td>...</td>\n",
       "      <td>...</td>\n",
       "      <td>...</td>\n",
       "      <td>...</td>\n",
       "      <td>...</td>\n",
       "      <td>...</td>\n",
       "      <td>...</td>\n",
       "      <td>...</td>\n",
       "      <td>...</td>\n",
       "      <td>...</td>\n",
       "      <td>...</td>\n",
       "      <td>...</td>\n",
       "      <td>...</td>\n",
       "      <td>...</td>\n",
       "      <td>...</td>\n",
       "      <td>...</td>\n",
       "      <td>...</td>\n",
       "      <td>...</td>\n",
       "      <td>...</td>\n",
       "    </tr>\n",
       "    <tr>\n",
       "      <th>16192</th>\n",
       "      <td>0.366966</td>\n",
       "      <td>-0.300013</td>\n",
       "      <td>0.545596</td>\n",
       "      <td>0.0</td>\n",
       "      <td>0.0</td>\n",
       "      <td>1.0</td>\n",
       "      <td>0.0</td>\n",
       "      <td>0.0</td>\n",
       "      <td>0.0</td>\n",
       "      <td>0.0</td>\n",
       "      <td>...</td>\n",
       "      <td>0.0</td>\n",
       "      <td>0.0</td>\n",
       "      <td>0.0</td>\n",
       "      <td>0.0</td>\n",
       "      <td>1.0</td>\n",
       "      <td>0.0</td>\n",
       "      <td>0.0</td>\n",
       "      <td>0.0</td>\n",
       "      <td>1.0</td>\n",
       "      <td>0.0</td>\n",
       "    </tr>\n",
       "    <tr>\n",
       "      <th>16193</th>\n",
       "      <td>0.881296</td>\n",
       "      <td>-0.813710</td>\n",
       "      <td>-0.083662</td>\n",
       "      <td>0.0</td>\n",
       "      <td>0.0</td>\n",
       "      <td>0.0</td>\n",
       "      <td>1.0</td>\n",
       "      <td>0.0</td>\n",
       "      <td>0.0</td>\n",
       "      <td>0.0</td>\n",
       "      <td>...</td>\n",
       "      <td>1.0</td>\n",
       "      <td>0.0</td>\n",
       "      <td>0.0</td>\n",
       "      <td>0.0</td>\n",
       "      <td>1.0</td>\n",
       "      <td>0.0</td>\n",
       "      <td>0.0</td>\n",
       "      <td>0.0</td>\n",
       "      <td>0.0</td>\n",
       "      <td>1.0</td>\n",
       "    </tr>\n",
       "    <tr>\n",
       "      <th>16194</th>\n",
       "      <td>-0.520719</td>\n",
       "      <td>0.209509</td>\n",
       "      <td>-0.633037</td>\n",
       "      <td>0.0</td>\n",
       "      <td>0.0</td>\n",
       "      <td>0.0</td>\n",
       "      <td>1.0</td>\n",
       "      <td>0.0</td>\n",
       "      <td>0.0</td>\n",
       "      <td>0.0</td>\n",
       "      <td>...</td>\n",
       "      <td>0.0</td>\n",
       "      <td>0.0</td>\n",
       "      <td>0.0</td>\n",
       "      <td>0.0</td>\n",
       "      <td>1.0</td>\n",
       "      <td>0.0</td>\n",
       "      <td>0.0</td>\n",
       "      <td>0.0</td>\n",
       "      <td>1.0</td>\n",
       "      <td>0.0</td>\n",
       "    </tr>\n",
       "    <tr>\n",
       "      <th>16195</th>\n",
       "      <td>-3.733445</td>\n",
       "      <td>0.753849</td>\n",
       "      <td>-1.498335</td>\n",
       "      <td>1.0</td>\n",
       "      <td>0.0</td>\n",
       "      <td>0.0</td>\n",
       "      <td>0.0</td>\n",
       "      <td>0.0</td>\n",
       "      <td>0.0</td>\n",
       "      <td>0.0</td>\n",
       "      <td>...</td>\n",
       "      <td>0.0</td>\n",
       "      <td>0.0</td>\n",
       "      <td>0.0</td>\n",
       "      <td>0.0</td>\n",
       "      <td>1.0</td>\n",
       "      <td>0.0</td>\n",
       "      <td>0.0</td>\n",
       "      <td>1.0</td>\n",
       "      <td>0.0</td>\n",
       "      <td>0.0</td>\n",
       "    </tr>\n",
       "    <tr>\n",
       "      <th>16196</th>\n",
       "      <td>0.868388</td>\n",
       "      <td>0.487094</td>\n",
       "      <td>1.220314</td>\n",
       "      <td>0.0</td>\n",
       "      <td>0.0</td>\n",
       "      <td>0.0</td>\n",
       "      <td>1.0</td>\n",
       "      <td>0.0</td>\n",
       "      <td>0.0</td>\n",
       "      <td>0.0</td>\n",
       "      <td>...</td>\n",
       "      <td>0.0</td>\n",
       "      <td>0.0</td>\n",
       "      <td>0.0</td>\n",
       "      <td>0.0</td>\n",
       "      <td>1.0</td>\n",
       "      <td>0.0</td>\n",
       "      <td>1.0</td>\n",
       "      <td>0.0</td>\n",
       "      <td>0.0</td>\n",
       "      <td>0.0</td>\n",
       "    </tr>\n",
       "  </tbody>\n",
       "</table>\n",
       "<p>16197 rows × 134 columns</p>\n",
       "</div>"
      ],
      "text/plain": [
       "       sqft_living  sqft_lot  sqft_living15    0    1    2    3    4    5  \\\n",
       "0        -0.036255 -0.614087       0.409697  0.0  0.0  1.0  0.0  0.0  0.0   \n",
       "1         0.133192 -0.152342      -0.260119  0.0  0.0  1.0  0.0  0.0  0.0   \n",
       "2         2.155565  3.505455       0.451269  0.0  0.0  0.0  0.0  1.0  0.0   \n",
       "3        -0.679181 -0.804264      -0.830224  0.0  1.0  0.0  0.0  0.0  0.0   \n",
       "4         0.409042  1.482668       0.649084  0.0  0.0  1.0  0.0  0.0  0.0   \n",
       "...            ...       ...            ...  ...  ...  ...  ...  ...  ...   \n",
       "16192     0.366966 -0.300013       0.545596  0.0  0.0  1.0  0.0  0.0  0.0   \n",
       "16193     0.881296 -0.813710      -0.083662  0.0  0.0  0.0  1.0  0.0  0.0   \n",
       "16194    -0.520719  0.209509      -0.633037  0.0  0.0  0.0  1.0  0.0  0.0   \n",
       "16195    -3.733445  0.753849      -1.498335  1.0  0.0  0.0  0.0  0.0  0.0   \n",
       "16196     0.868388  0.487094       1.220314  0.0  0.0  0.0  1.0  0.0  0.0   \n",
       "\n",
       "         6  ...  121  122  123  124  125  126  127  128  129  130  \n",
       "0      0.0  ...  0.0  0.0  0.0  0.0  1.0  0.0  1.0  0.0  0.0  0.0  \n",
       "1      0.0  ...  0.0  0.0  0.0  0.0  1.0  0.0  0.0  0.0  0.0  1.0  \n",
       "2      0.0  ...  0.0  0.0  0.0  0.0  1.0  0.0  1.0  0.0  0.0  0.0  \n",
       "3      0.0  ...  0.0  0.0  0.0  0.0  1.0  0.0  1.0  0.0  0.0  0.0  \n",
       "4      0.0  ...  0.0  0.0  0.0  0.0  1.0  0.0  0.0  0.0  0.0  1.0  \n",
       "...    ...  ...  ...  ...  ...  ...  ...  ...  ...  ...  ...  ...  \n",
       "16192  0.0  ...  0.0  0.0  0.0  0.0  1.0  0.0  0.0  0.0  1.0  0.0  \n",
       "16193  0.0  ...  1.0  0.0  0.0  0.0  1.0  0.0  0.0  0.0  0.0  1.0  \n",
       "16194  0.0  ...  0.0  0.0  0.0  0.0  1.0  0.0  0.0  0.0  1.0  0.0  \n",
       "16195  0.0  ...  0.0  0.0  0.0  0.0  1.0  0.0  0.0  1.0  0.0  0.0  \n",
       "16196  0.0  ...  0.0  0.0  0.0  0.0  1.0  0.0  1.0  0.0  0.0  0.0  \n",
       "\n",
       "[16197 rows x 134 columns]"
      ]
     },
     "execution_count": 25,
     "metadata": {},
     "output_type": "execute_result"
    }
   ],
   "source": [
    "X_train = final_df.drop(columns = 'price', axis = 1)\n",
    "y_train = pd.DataFrame(final_df['price'])\n"
   ]
  },
  {
   "cell_type": "code",
   "execution_count": 26,
   "metadata": {},
   "outputs": [],
   "source": [
    "from sklearn.model_selection import train_test_split, KFold\n",
    "from sklearn.linear_model import LinearRegression\n",
    "from sklearn.preprocessing import StandardScaler"
   ]
  },
  {
   "cell_type": "code",
   "execution_count": 27,
   "metadata": {},
   "outputs": [
    {
     "name": "stdout",
     "output_type": "stream",
     "text": [
      "KFold(n_splits=8, random_state=None, shuffle=False)\n"
     ]
    }
   ],
   "source": [
    "# instantiate a kfold object and specify number of splits\n",
    "\n",
    "kf = KFold(n_splits = 8, shuffle = False) ## 4 to 1 ratio of train to test\n",
    "\n",
    "# designate 5 folds for each split\n",
    "val_r2 = []\n",
    "# loop through each fold\n",
    "kf.get_n_splits(X_train)\n",
    "print (kf)\n",
    "\n",
    "for train_ind, test_ind in kf.split(X_train, y_train):\n",
    "    # logistic regression performed for each fold\n",
    "    lr = LinearRegression()\n",
    "    # instantiate a scaler for each fold\n",
    "    ss = StandardScaler()\n",
    "    # using the indices, create the split associated with each loop\n",
    "    X_tt = X_train.iloc[train_ind]\n",
    "    y_tt =  y_train.iloc[train_ind]\n",
    "    X_ts =  X_train.iloc[test_ind]\n",
    "    y_ts = y_train.iloc[test_ind]\n",
    "    # fit transform the scaler on tt\n",
    "    X_tt_scaled = ss.fit_transform(X_tt)\n",
    "    # fit model on tt\n",
    "    lr.fit(X_tt_scaled, y_tt)\n",
    "    # score both training and validation\n",
    "    \n",
    "    X_ts_scaled = ss.transform(X_ts)\n",
    "    val_r2.append(lr.score(X_ts_scaled, y_ts))"
   ]
  },
  {
   "cell_type": "code",
   "execution_count": 28,
   "metadata": {
    "scrolled": true
   },
   "outputs": [
    {
     "data": {
      "text/plain": [
       "[0.873918723324306,\n",
       " -9.0283578266401e+21,\n",
       " 0.8722674112480374,\n",
       " 0.8826836335631796,\n",
       " 0.8798513451108505,\n",
       " 0.8738637509266423,\n",
       " 0.8800455941241699,\n",
       " 0.8741439672676341]"
      ]
     },
     "execution_count": 28,
     "metadata": {},
     "output_type": "execute_result"
    }
   ],
   "source": [
    "val_r2"
   ]
  },
  {
   "cell_type": "code",
   "execution_count": 29,
   "metadata": {},
   "outputs": [
    {
     "data": {
      "text/plain": [
       "0.8798108126206002"
      ]
     },
     "execution_count": 29,
     "metadata": {},
     "output_type": "execute_result"
    }
   ],
   "source": [
    "lr.fit(X_train, y_train)\n",
    "lr.score(X_train, y_train)"
   ]
  },
  {
   "cell_type": "code",
   "execution_count": 31,
   "metadata": {},
   "outputs": [],
   "source": [
    "first_preds_log = lr.predict(X_test)"
   ]
  },
  {
   "cell_type": "code",
   "execution_count": 65,
   "metadata": {},
   "outputs": [
    {
     "name": "stderr",
     "output_type": "stream",
     "text": [
      "<ipython-input-65-230756be37fb>:1: RuntimeWarning: overflow encountered in exp\n",
      "  first_preds = np.exp(first_preds_log)\n"
     ]
    },
    {
     "data": {
      "text/plain": [
       "array([[ 208621.26478469],\n",
       "       [ 485988.74047303],\n",
       "       [ 397036.96571575],\n",
       "       ...,\n",
       "       [1408778.59543864],\n",
       "       [ 958331.68040576],\n",
       "       [ 236721.9248688 ]])"
      ]
     },
     "execution_count": 65,
     "metadata": {},
     "output_type": "execute_result"
    }
   ],
   "source": [
    "first_preds = np.exp(first_preds_log)\n",
    "first_preds"
   ]
  },
  {
   "cell_type": "code",
   "execution_count": 37,
   "metadata": {},
   "outputs": [],
   "source": [
    "import numpy as np\n",
    "y_test_fake = np.full((5400,1), 0)"
   ]
  },
  {
   "cell_type": "code",
   "execution_count": 41,
   "metadata": {},
   "outputs": [
    {
     "data": {
      "text/plain": [
       "-3.3730650215815687e+30"
      ]
     },
     "execution_count": 41,
     "metadata": {},
     "output_type": "execute_result"
    }
   ],
   "source": [
    "from sklearn.metrics import r2_score\n",
    "\n",
    "# fake predictions using the mean of y_train.\n",
    "first_preds = np.full((5400,1), np.mean(y_train))\n",
    "\n",
    "r2_score(first_preds, y_test_fake)"
   ]
  },
  {
   "cell_type": "code",
   "execution_count": 42,
   "metadata": {},
   "outputs": [],
   "source": [
    "np.savetxt('Svitlana_Jamie_FirstPreds.csv', first_preds, delimiter=',')"
   ]
  },
  {
   "cell_type": "code",
   "execution_count": 59,
   "metadata": {},
   "outputs": [],
   "source": [
    "# gradient boosting for classification in scikit-learn\n",
    "from sklearn.svm import SVR\n",
    "\n",
    "# define dataset\n",
    "X = X_train\n",
    "y = np.array(y_train).flatten()\n",
    "\n",
    "# fit the model on the whole dataset\n",
    "model = SVR()\n",
    "model.fit(X, y)\n",
    "\n",
    "# make a single prediction\n",
    "\n",
    "second_preds_log = model.predict(X_test)\n"
   ]
  },
  {
   "cell_type": "code",
   "execution_count": 66,
   "metadata": {},
   "outputs": [
    {
     "data": {
      "text/plain": [
       "array([ 203615.11479163,  455275.52840028,  371976.47983475, ...,\n",
       "       1719372.82900262, 1039211.71260435,  252654.59004289])"
      ]
     },
     "execution_count": 66,
     "metadata": {},
     "output_type": "execute_result"
    }
   ],
   "source": [
    "second_preds = np.exp(second_preds_log)\n",
    "second_preds"
   ]
  },
  {
   "cell_type": "code",
   "execution_count": 67,
   "metadata": {},
   "outputs": [],
   "source": [
    "np.savetxt('Svitlana_Jamie_SecondPreds.csv', second_preds, delimiter=',')"
   ]
  },
  {
   "cell_type": "code",
   "execution_count": 61,
   "metadata": {},
   "outputs": [],
   "source": [
    "from sklearn.linear_model import SGDRegressor\n",
    "\n",
    "X = X_train\n",
    "y = np.array(y_train).flatten()\n",
    "\n",
    "grad = SGDRegressor()\n",
    "grad.fit(X, y)\n",
    "\n",
    "third_preds_log = grad.predict(X_test)"
   ]
  },
  {
   "cell_type": "code",
   "execution_count": 68,
   "metadata": {},
   "outputs": [
    {
     "data": {
      "text/plain": [
       "array([ 211357.56523732,  498256.53443616,  388178.40906444, ...,\n",
       "       1374005.11284913,  778794.11815575,  259790.53516605])"
      ]
     },
     "execution_count": 68,
     "metadata": {},
     "output_type": "execute_result"
    }
   ],
   "source": [
    "third_preds = np.exp(third_preds_log)\n",
    "third_preds"
   ]
  },
  {
   "cell_type": "code",
   "execution_count": 69,
   "metadata": {},
   "outputs": [],
   "source": [
    "np.savetxt('Svitlana_Jamie_ThirdPreds.csv', third_preds, delimiter=',')"
   ]
  }
 ],
 "metadata": {
  "kernelspec": {
   "display_name": "Python 3",
   "language": "python",
   "name": "python3"
  },
  "language_info": {
   "codemirror_mode": {
    "name": "ipython",
    "version": 3
   },
   "file_extension": ".py",
   "mimetype": "text/x-python",
   "name": "python",
   "nbconvert_exporter": "python",
   "pygments_lexer": "ipython3",
   "version": "3.8.5"
  }
 },
 "nbformat": 4,
 "nbformat_minor": 4
}
